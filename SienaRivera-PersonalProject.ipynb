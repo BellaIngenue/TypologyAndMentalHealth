{
 "cells": [
  {
   "cell_type": "markdown",
   "metadata": {},
   "source": [
    "# Personal Project: Myers-Briggs Type Indicator (MBTI), Enneagram, and Mental Health Disorders"
   ]
  },
  {
   "cell_type": "markdown",
   "metadata": {},
   "source": [
    "## Overview\n",
    "Throughout the past decade, Myers-Briggs Type Indicator (MBTI) and Enneagram have been notorious for personality assessments and self-discovery. We wanted to look further into this topic, and the connection between MBTI/Enneagram and Mental Health Disorders. Both Enneagram and MBTI are hypothesized to have types that are more correlated with different disorders. That is what we will look further into. Although they are known as pseudosciences, these forms of self-acknowledgement are great for human growth and development."
   ]
  },
  {
   "cell_type": "markdown",
   "metadata": {},
   "source": [
    "## Research Question\n",
    "When it comes to MBTI/Enneagram, what is the possible connection between Mental Disorders and the 16 MBTI and 9 Enneagram types?"
   ]
  },
  {
   "cell_type": "markdown",
   "metadata": {},
   "source": [
    "## Background and Prior Work\n",
    "\n",
    "**Jungian Theory and Myers-Briggs Typology Indicator**<br>\n",
    "\n",
    "When it comes to MBTI and Enneagram, they are considered to be the most known forms of typology. BIG 5 or OCEAN is also considered to be noteworthy and incredibly useful. However, it does not seem to be as popular as the prior two considered. I'd like to preface this by explaining exactly what MBTI is and how it differs from the original Jungian functions. \n",
    "\n",
    "Carl Jung created 8 Cognitive Functions: Extraverted/Introverted Intuition, Sensing, Feelings and Thinking (Ne,Ni,Se,Si,Fe,Fi,Te,Ti). Years later, Myers and Briggs took his knowledge and ideas and created 16 personalities from the original idea. This was later known as MBTI types. MBTI types being made up of 8 phrases: Extravert/Introvert, Sensing/Intuition, Feeling/Thinking, and Judging/Perceiving. The 8 letters became 4 choices, and you are labeled into one of 16 boxes made up of the different letter scheme. \n",
    "\n",
    "According to TheMyersBriggs.com, The Myers-Briggs Type Indicator® (MBTI®) assessment is one of the world’s most popular personality tools—because it works. Used by more than 88 percent of Fortune 500 companies in 115 countries, and available in 29 languages, it has become the go-to framework for people development globally. With more than 70 years of science-based, research-based insight, the MBTI assessment is a robust tool for self-awareness and improvement. It provides positive language for understanding and valuing individual differences. With practical insight that’s easy to understand and implement, the MBTI assessment has helped thousands of organizations and millions of people around the world improve how they communicate, learn, and work<sup>[1](#themuyersbriggs)</sup>\n",
    "\n",
    "Several other studies have looked further into the idea of patients with several mental health disorders and their correspondent typology type. One study in specifics looked further into patients with suicidal tendencies and thoughts<sup>[2](#suicidal)</sup>. In addition, there has been more reasearch into specific mental health disorders and the connection to different letters in MBTI.\n",
    "\n",
    "Although there are many hypotheses and assumptions in regards to typology and mental health disorders, there is no clear evidentiary support. While many psychologists, including Carl Jung himself, state that there are no strong connection between the two, it is something that could be considered useful to look further into.\n",
    "\n",
    "**Enneagram and Instinctual Varients**<br>\n",
    "\n",
    "In addition, looking further into the typology known as Enneagram can be useful in learning more about oneself and others. Enneagram is highly versatile and is used around the world. Created by Oscar Ichazo, the founder of a school for human potential and self-development, assigned different personality types to each of the nine positions in the Enneagram diagram. Later, psychiatrist Claudio Naranjo expanded the theory to expand the nine types in psychological terms.<sup>[3](#9types)</sup>\n",
    "\n",
    "Some other studies have looked into the connection between Enneagram, MBTI and Mental Health. One such study looked further at the connection between Enneagram types (core types) and the individual's psychological stress and well-being in College.<sup>[4](#enneagram)</sup>\n",
    "\n",
    "\n",
    "\n",
    "\n",
    " [<sup id=\"themyersbriggs\">1</sup>](#themyersbriggs-back) [The Myers Briggs Website](www.themyersbriggs.com/)<br> \n",
    " [<sup id=\"suicidal\">2</sup>](#suicidal-back) [Relationship of Myers Briggs type indicator personality characteristics to suicidality in affective disorder patients](https://pubmed.ncbi.nlm.nih.gov/11755459/)<br>\n",
    " [<sup id=\"9types\">3</sup>](#9types-back) [VeryWellMind](https://www.verywellmind.com/the-enneagram-of-personality-4691757#:~:text=Oscar%20Ichazo%2C%20the%20founder%20of,nine%20types%20in%20psychological%20terms.)<br>\n",
    " [<sup i=\"enneagram\">4</sup>](#enneagram-back) [Enneagram typologies and healthy personality to psychosocial stress: A network approach](https://www.ncbi.nlm.nih.gov/pmc/articles/PMC9731769/)<br>\n"
   ]
  },
  {
   "cell_type": "markdown",
   "metadata": {},
   "source": [
    "## Hypothesis\n",
    "\n",
    "*Our hypothesis is that Mental Health and Typology have some slight connection and causation. By that we ask if there is a correlation between Mental Health disorders and Typology types such as the Enneagram and MBTI. We hypothesize that there is a slight causation from different Enneagram types and different correspponding Mental Health disorders. We acknowledge that there may be some confounding variable such as Socioeconomic Status, Education, and Physical Health Status. There is also the reality that there is no strong connection between Psuedosciences and a lack of knowledge and evidentiary support.*"
   ]
  },
  {
   "cell_type": "markdown",
   "metadata": {},
   "source": [
    "## Dataset(s) Used\n",
    "\n",
    "**Main Datasets**\n",
    "\n",
    "1. **Top Personality Dataset**\n",
    " - **Name:** 2018-personality-data.csv\n",
    " - **Shape/Size of the Dataset:** Shape: , Size:\n",
    " - [Link to the Dataset](https://www.kaggle.com/datasets/arslanali4343/top-personality-dataset/data)\n",
    " - **Description:**\n",
    "   \n",
    "2. **(MBTI) Myers-Briggs Personality Type Dataset**\n",
    " - **Name:** mbti_1.csv\n",
    " - **Shape/Size of the Dataset:** Shape: , Size:\n",
    " - [Link to the Dataset](https://www.kaggle.com/datasets/datasnaek/mbti-type)\n",
    " - **Description:**\n",
    "   \n",
    "3. **MBTI Personality Types 500 Dataset**\n",
    " - **Name:** MBTI 500.csv\n",
    " - **Shape/Size of the Dataset:** Shape: , Size:\n",
    " - [Link to the Dataset](https://www.kaggle.com/datasets/zeyadkhalid/mbti-personality-types-500-dataset)\n",
    " - **Description:**\n",
    "   \n",
    "4. **Big Five, MBTI and TIPI Test Results**\n",
    " - **Name:** final.csv\n",
    " - **Shape/Size of the Dataset:** Shape: , Size:\n",
    " - [Link to the Dataset](https://www.kaggle.com/datasets/joanasesinando/big-five-mbti-and-tipi-test-results)\n",
    " - **Description:**\n",
    "\n"
   ]
  },
  {
   "cell_type": "markdown",
   "metadata": {},
   "source": [
    "# Setup:"
   ]
  },
  {
   "cell_type": "code",
   "execution_count": 3,
   "metadata": {},
   "outputs": [],
   "source": [
    "# First make sure to have all packages installed on device (pip install pandas, numpy, seaborn, matplotlib, and etc)\n",
    "# import all packages after installing pip\n",
    "import pandas as pd\n",
    "import numpy as np\n",
    "import seaborn as sns\n",
    "sns.set(font_scale=2, style=\"white\")\n",
    "import matplotlib as mpl\n",
    "import matplotlib.pyplot as plt\n",
    "import matplotlib.style as style\n",
    "import geopandas as gpd\n",
    "import pyproj as pyproj\n",
    "import scipy.stats as stats\n",
    "from scipy.stats import normaltest, ttest_ind\n",
    "import patsy\n",
    "import statsmodels.api as sm\n",
    "import functools\n",
    "# Our Warnings when importing code will make it harder to concentrate on what is important\n",
    "import warnings\n",
    "warnings.filterwarnings('ignore')"
   ]
  },
  {
   "cell_type": "markdown",
   "metadata": {},
   "source": [
    "# Data Cleaning\n",
    "\n",
    "## Table of Contents\n",
    "- MBTI Personality Databases\n",
    "- Enneagram Personality Databases\n",
    "- Mental Health and Disorders Databases"
   ]
  },
  {
   "cell_type": "markdown",
   "metadata": {},
   "source": [
    "## MBTI Personality Databases"
   ]
  },
  {
   "cell_type": "code",
   "execution_count": null,
   "metadata": {},
   "outputs": [],
   "source": []
  }
 ],
 "metadata": {
  "kernelspec": {
   "display_name": "Python 3 (ipykernel)",
   "language": "python",
   "name": "python3"
  },
  "language_info": {
   "codemirror_mode": {
    "name": "ipython",
    "version": 3
   },
   "file_extension": ".py",
   "mimetype": "text/x-python",
   "name": "python",
   "nbconvert_exporter": "python",
   "pygments_lexer": "ipython3",
   "version": "3.12.1"
  }
 },
 "nbformat": 4,
 "nbformat_minor": 4
}
