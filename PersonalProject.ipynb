{
  "metadata": {
    "kernelspec": {
      "name": "python",
      "display_name": "Python (Pyodide)",
      "language": "python"
    },
    "language_info": {
      "codemirror_mode": {
        "name": "python",
        "version": 3
      },
      "file_extension": ".py",
      "mimetype": "text/x-python",
      "name": "python",
      "nbconvert_exporter": "python",
      "pygments_lexer": "ipython3",
      "version": "3.8"
    }
  },
  "nbformat_minor": 4,
  "nbformat": 4,
  "cells": [
    {
      "cell_type": "markdown",
      "source": "# Personal Project: Myers-Briggs Type Indicator (MBTI), Enneagram, and Mental Health Disorders",
      "metadata": {}
    },
    {
      "cell_type": "markdown",
      "source": "## Overview\nThroughout the past decade, Myers-Briggs Type Indicator (MBTI) and Enneagram have been notorious for personality assessments and self-discovery. We wanted to look further into this topic, and the connection between MBTI/Enneagram and Mental Health Disorders. Both Enneagram and MBTI are hypothesized to have types that are more correlated with different disorders. That is what we will look further into. Although they are known as pseudosciences, these forms of self-acknowledgement are great for human growth and development.",
      "metadata": {}
    },
    {
      "cell_type": "markdown",
      "source": "## Research Question\nWhen it comes to MBTI/Enneagram, what is the possible connection between Mental Disorders and the 16 MBTI and 9 Enneagram types?",
      "metadata": {}
    },
    {
      "cell_type": "markdown",
      "source": "## Background and Prior Work\n\n**Jungian Theory and Myers-Briggs Typology Indicator**<br>\n\nWhen it comes to MBTI and Enneagram, they are considered to be the most known forms of typology. BIG 5 or OCEAN is also considered to be noteworthy and incredibly useful. However, it does not seem to be as popular as the prior two considered. I'd like to preface this by explaining exactly what MBTI is and how it differs from the original Jungian functions. \n\nCarl Jung created 8 Cognitive Functions: Extraverted/Introverted Intuition, Sensing, Feelings and Thinking (Ne,Ni,Se,Si,Fe,Fi,Te,Ti). Years later, Myers and Briggs took his knowledge and ideas and created 16 personalities from the original idea. This was later known as MBTI types. MBTI types being made up of 8 phrases: Extravert/Introvert, Sensing/Intuition, Feeling/Thinking, and Judging/Perceiving. The 8 letters became 4 choices, and you are labeled into one of 16 boxes made up of the different letter scheme. \n\nAccording to TheMyersBriggs.com, The Myers-Briggs Type Indicator® (MBTI®) assessment is one of the world’s most popular personality tools—because it works. Used by more than 88 percent of Fortune 500 companies in 115 countries, and available in 29 languages, it has become the go-to framework for people development globally. With more than 70 years of science-based, research-based insight, the MBTI assessment is a robust tool for self-awareness and improvement. It provides positive language for understanding and valuing individual differences. With practical insight that’s easy to understand and implement, the MBTI assessment has helped thousands of organizations and millions of people around the world improve how they communicate, learn, and work<sup>[1](#themuyersbriggs)</sup>\n\nSeveral other studies have looked further into the idea of patients with several mental health disorders and their correspondent typology type. One study in specifics looked further into patients with suicidal tendencies and thoughts<sup>[2](#suicidal)</sup>. In addition, there has been more reasearch into specific mental health disorders and the connection to different letters in MBTI.\n\nAlthough there are many hypotheses and assumptions in regards to typology and mental health disorders, there is no clear evidentiary support. While many psychologists, including Carl Jung himself, state that there are no strong connection between the two, it is something that could be considered useful to look further into.\n\n**Enneagram and Instinctual Varients**<br>\n\nIn addition, looking further into the typology known as Enneagram can be useful in learning more about oneself and others. Enneagram is highly versatile and is used around the world. Created by Oscar Ichazo, the founder of a school for human potential and self-development, assigned different personality types to each of the nine positions in the Enneagram diagram. Later, psychiatrist Claudio Naranjo expanded the theory to expand the nine types in psychological terms.<sup>[3](#9types)</sup>\n\nSome other studies have looked into the connection between Enneagram, MBTI and Mental Health. One such study looked further at the connection between Enneagram types (core types) and the individual's psychological stress and well-being in College.<sup>[4](#enneagram)</sup>\n\n\n\n\n [<sup id=\"themyersbriggs\">1</sup>](#themyersbriggs-back) [The Myers Briggs Website](www.themyersbriggs.com/)<br> \n [<sup id=\"suicidal\">2</sup>](#suicidal-back) [Relationship of Myers Briggs type indicator personality characteristics to suicidality in affective disorder patients](https://pubmed.ncbi.nlm.nih.gov/11755459/)<br>\n [<sup id=\"9types\">3</sup>](#9types-back) [VeryWellMind](https://www.verywellmind.com/the-enneagram-of-personality-4691757#:~:text=Oscar%20Ichazo%2C%20the%20founder%20of,nine%20types%20in%20psychological%20terms.)<br>\n [<sup i=\"enneagram\">4</sup>](#enneagram-back) [Enneagram typologies and healthy personality to psychosocial stress: A network approach](https://www.ncbi.nlm.nih.gov/pmc/articles/PMC9731769/)<br>\n",
      "metadata": {}
    },
    {
      "cell_type": "markdown",
      "source": "## Hypothesis\n\n*Our hypothesis is that Mental Health and Typology have some slight connection and causation. By that we ask if there is a correlation between Mental Health disorders and Typology types such as the Enneagram and MBTI. We hypothesize that there is a slight causation from different Enneagram types and different correspponding Mental Health disorders. We acknowledge that there may be some confounding variable such as Socioeconomic Status, Education, and Physical Health Status. There is also the connection between Psuedosciences and a lack of knowledge and evidentiary support*",
      "metadata": {}
    },
    {
      "cell_type": "code",
      "source": "",
      "metadata": {
        "trusted": true
      },
      "outputs": [],
      "execution_count": null
    }
  ]
}